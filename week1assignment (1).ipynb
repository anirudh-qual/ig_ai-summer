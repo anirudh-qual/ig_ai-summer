{
 "cells": [
  {
   "cell_type": "code",
   "execution_count": 1,
   "metadata": {
    "colab": {},
    "colab_type": "code",
    "id": "F-6bE0dYcBgA"
   },
   "outputs": [],
   "source": [
    "## Import stuff\n",
    " \n",
    "import numpy as np\n",
    "from sklearn import datasets, linear_model, metrics\n"
   ]
  },
  {
   "cell_type": "code",
   "execution_count": 12,
   "metadata": {
    "colab": {},
    "colab_type": "code",
    "id": "gK71NIhMcEs5"
   },
   "outputs": [],
   "source": [
    "## Load the diabetes dataset\n",
    "diabetes = datasets.load_diabetes()\n",
    "diabetes_X = diabetes.data # matrix of dimensions 442x10\n",
    " \n",
    "# Split the data into training/testing sets\n",
    "diabetes_X_train = diabetes_X[:-20]\n",
    "diabetes_X_test = diabetes_X[-20:]\n",
    " \n",
    "# Split the targets into training/testing sets\n",
    "diabetes_y_train = diabetes.target[:-20]\n",
    "diabetes_y_test = diabetes.target[-20:]"
   ]
  },
  {
   "cell_type": "code",
   "execution_count": 15,
   "metadata": {
    "colab": {},
    "colab_type": "code",
    "id": "XJTg22ybcHsl"
   },
   "outputs": [
    {
     "name": "stdout",
     "output_type": "stream",
     "text": [
      "Epoch 0: 14730.807326\n",
      "Epoch 500: 1524.045744\n",
      "Epoch 1000: 1470.692232\n",
      "Epoch 1500: 1463.722788\n",
      "Epoch 2000: 1462.371491\n",
      "Epoch 2500: 1461.893016\n",
      "Epoch 3000: 1461.593305\n",
      "Epoch 3500: 1461.342813\n",
      "Epoch 4000: 1461.111368\n",
      "Epoch 4500: 1460.890570\n"
     ]
    }
   ],
   "source": [
    "# train\n",
    "X = diabetes_X_train\n",
    "y = diabetes_y_train\n",
    " \n",
    "# train: init\n",
    "(m,n)=X.shape\n",
    "W = np.random.rand(n,1)\n",
    "b = 0 \n",
    "y=y.reshape(m,1)\n",
    "learning_rate =1\n",
    "epochs = 5000\n",
    " \n",
    "# train: gradient descent\n",
    "for i in range(epochs):\n",
    "    # calculate predictions\n",
    "    pred=np.dot(X,W)+b\n",
    "    # calculate error and cost (mean squared error)\n",
    "    cost=(pred-y)**2\n",
    "    cost=(1/(2*m))*np.sum(cost)\n",
    " \n",
    "    # calculate gradients\n",
    "    grad0=(1/m)*np.sum((pred-y))\n",
    "    grad=(pred-y)*X\n",
    "    grad=(1/m)*np.sum(grad,axis=0)\n",
    "    grad=grad.reshape(n,1)\n",
    " \n",
    "    # update parameters\n",
    "    W=W-(learning_rate)*grad\n",
    "    b=b-(learning_rate)*grad0\n",
    " \n",
    "    # diagnostic output\n",
    "    if i % 500== 0: print(\"Epoch %d: %f\" % (i, cost))\n"
   ]
  },
  {
   "cell_type": "code",
   "execution_count": 19,
   "metadata": {
    "colab": {},
    "colab_type": "code",
    "id": "uvSdTn-0cKJL"
   },
   "outputs": [
    {
     "name": "stdout",
     "output_type": "stream",
     "text": [
      "Coefficients: \n",
      " [[   4.13242171]\n",
      " [-234.53983192]\n",
      " [ 520.80576609]\n",
      " [ 325.80468788]\n",
      " [-110.2036158 ]\n",
      " [ -75.34804753]\n",
      " [-201.7583861 ]\n",
      " [ 112.72808269]\n",
      " [ 474.25088608]\n",
      " [  79.36033211]]\n",
      "Mean squared error: 996.68\n",
      "========================================================================================================================\n"
     ]
    }
   ],
   "source": [
    "# test\n",
    "X = diabetes_X_test\n",
    "y = diabetes_y_test\n",
    "(m,n)=X.shape\n",
    "y=y.reshape(m,1) \n",
    "# calculate predictions + calculate error and cost (same code as above)\n",
    "pred=np.dot(X,W)+b\n",
    "cost=(pred-y)**2\n",
    "cost=(1/(2*m))*np.sum(cost)\n",
    "\n",
    "print('Coefficients: \\n', W)\n",
    "print(\"Mean squared error: %.2f\" % cost)\n",
    "print(\"=\"*120)"
   ]
  },
  {
   "cell_type": "code",
   "execution_count": null,
   "metadata": {},
   "outputs": [],
   "source": []
  }
 ],
 "metadata": {
  "colab": {
   "name": "week1assignment.ipynb",
   "provenance": []
  },
  "kernelspec": {
   "display_name": "Python 3",
   "language": "python",
   "name": "python3"
  },
  "language_info": {
   "codemirror_mode": {
    "name": "ipython",
    "version": 3
   },
   "file_extension": ".py",
   "mimetype": "text/x-python",
   "name": "python",
   "nbconvert_exporter": "python",
   "pygments_lexer": "ipython3",
   "version": "3.7.4"
  }
 },
 "nbformat": 4,
 "nbformat_minor": 1
}
